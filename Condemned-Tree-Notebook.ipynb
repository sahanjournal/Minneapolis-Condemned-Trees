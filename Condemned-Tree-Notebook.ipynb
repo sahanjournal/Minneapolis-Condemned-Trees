{
 "cells": [
  {
   "cell_type": "markdown",
   "id": "1ad969e1",
   "metadata": {},
   "source": [
    "# About this notebook:\n",
    "### Minneapolis condemned tree data analysis\n",
    "\n",
    "This notebook includes:\n",
    "- Basic facts about condemned tree assessment in North Minneapolis and Other neighborhoods.\n",
    "- Statistical hypothesis tests to interrogate if disparities between the two neighborhood is statisically significant.\n",
    "\n",
    "Source of this data: Minneapolis Park and Recreation Board, via data request by Sahan Journal. Sahan Journal has published this data in this repository.\n",
    "\n",
    "Read the story here:\n",
    "\n",
    "### Have questions, comments, or feedback?\n",
    "Contact Sahan Journal's data reporter Cynthia Tu ctu@sahanjournal.com, or climate reporter Andrew Hazzard ahazzard@sahanjournal.com."
   ]
  },
  {
   "cell_type": "code",
   "execution_count": 1,
   "id": "51457a7c",
   "metadata": {},
   "outputs": [],
   "source": [
    "import pandas as pd"
   ]
  },
  {
   "cell_type": "code",
   "execution_count": 2,
   "id": "bb8d4041",
   "metadata": {},
   "outputs": [],
   "source": [
    "%load_ext rpy2.ipython"
   ]
  },
  {
   "cell_type": "code",
   "execution_count": 3,
   "id": "62394acb",
   "metadata": {},
   "outputs": [
    {
     "name": "stdout",
     "output_type": "stream",
     "text": [
      "── Attaching core tidyverse packages ──────────────────────── tidyverse 2.0.0 ──\n",
      "✔ dplyr     1.1.3     ✔ readr     2.1.4\n",
      "✔ forcats   1.0.0     ✔ stringr   1.5.0\n",
      "✔ ggplot2   3.4.3     ✔ tibble    3.2.1\n",
      "✔ lubridate 1.9.2     ✔ tidyr     1.3.0\n",
      "✔ purrr     1.0.2     \n",
      "── Conflicts ────────────────────────────────────────── tidyverse_conflicts() ──\n",
      "✖ dplyr::filter() masks stats::filter()\n",
      "✖ dplyr::lag()    masks stats::lag()\n",
      "ℹ Use the conflicted package (<http://conflicted.r-lib.org/>) to force all conflicts to become errors\n"
     ]
    },
    {
     "data": {
      "text/plain": [
       "Loading required package: tidyverse\n",
       "Loading required package: DescTools\n"
      ]
     },
     "metadata": {},
     "output_type": "display_data"
    }
   ],
   "source": [
    "%%R\n",
    "\n",
    "require('tidyverse')\n",
    "require('DescTools')\n",
    "require('ggplot2')"
   ]
  },
  {
   "cell_type": "code",
   "execution_count": 4,
   "id": "c1a1bae8",
   "metadata": {},
   "outputs": [
    {
     "data": {
      "text/html": [
       "<div>\n",
       "<style scoped>\n",
       "    .dataframe tbody tr th:only-of-type {\n",
       "        vertical-align: middle;\n",
       "    }\n",
       "\n",
       "    .dataframe tbody tr th {\n",
       "        vertical-align: top;\n",
       "    }\n",
       "\n",
       "    .dataframe thead th {\n",
       "        text-align: right;\n",
       "    }\n",
       "</style>\n",
       "<table border=\"1\" class=\"dataframe\">\n",
       "  <thead>\n",
       "    <tr style=\"text-align: right;\">\n",
       "      <th></th>\n",
       "      <th>Count</th>\n",
       "      <th>Address</th>\n",
       "      <th>Parcel ID</th>\n",
       "      <th>Area</th>\n",
       "      <th>Tree Type</th>\n",
       "      <th>Pest Reason</th>\n",
       "      <th>Inspect Date</th>\n",
       "      <th>Assessed</th>\n",
       "      <th>Cost per Trunk Inch</th>\n",
       "      <th>Trunk Size</th>\n",
       "      <th>Trunk Cost</th>\n",
       "    </tr>\n",
       "  </thead>\n",
       "  <tbody>\n",
       "    <tr>\n",
       "      <th>0</th>\n",
       "      <td>1</td>\n",
       "      <td>19 BARTON AVE SE</td>\n",
       "      <td>3002923420124</td>\n",
       "      <td>Other Neighborhoods</td>\n",
       "      <td>Green Ash</td>\n",
       "      <td>EAB</td>\n",
       "      <td>2013-03-08</td>\n",
       "      <td>Not Assessed</td>\n",
       "      <td>0.0</td>\n",
       "      <td>17.0</td>\n",
       "      <td>NaN</td>\n",
       "    </tr>\n",
       "    <tr>\n",
       "      <th>1</th>\n",
       "      <td>1</td>\n",
       "      <td>19 BARTON AVE SE</td>\n",
       "      <td>3002923420124</td>\n",
       "      <td>Other Neighborhoods</td>\n",
       "      <td>Green Ash</td>\n",
       "      <td>EAB</td>\n",
       "      <td>2013-03-08</td>\n",
       "      <td>Not Assessed</td>\n",
       "      <td>0.0</td>\n",
       "      <td>11.0</td>\n",
       "      <td>NaN</td>\n",
       "    </tr>\n",
       "  </tbody>\n",
       "</table>\n",
       "</div>"
      ],
      "text/plain": [
       "   Count            Address      Parcel ID                 Area  Tree Type  \\\n",
       "0      1  19 BARTON AVE SE   3002923420124  Other Neighborhoods  Green Ash   \n",
       "1      1  19 BARTON AVE SE   3002923420124  Other Neighborhoods  Green Ash   \n",
       "\n",
       "  Pest Reason Inspect Date      Assessed  Cost per Trunk Inch  Trunk Size  \\\n",
       "0         EAB   2013-03-08  Not Assessed                  0.0        17.0   \n",
       "1         EAB   2013-03-08  Not Assessed                  0.0        11.0   \n",
       "\n",
       "   Trunk Cost  \n",
       "0         NaN  \n",
       "1         NaN  "
      ]
     },
     "execution_count": 4,
     "metadata": {},
     "output_type": "execute_result"
    }
   ],
   "source": [
    "df = pd.read_excel(\"CondemnedPrivateAshMpls_20130101-20230908_20231011.xlsx\",\\\n",
    "                   sheet_name=\"Data\")\n",
    "df.head(2)"
   ]
  },
  {
   "cell_type": "code",
   "execution_count": 5,
   "id": "af86275c",
   "metadata": {},
   "outputs": [
    {
     "data": {
      "text/plain": [
       "(18316, 11)"
      ]
     },
     "execution_count": 5,
     "metadata": {},
     "output_type": "execute_result"
    }
   ],
   "source": [
    "df.shape"
   ]
  },
  {
   "cell_type": "code",
   "execution_count": 6,
   "id": "a7dadffc",
   "metadata": {},
   "outputs": [],
   "source": [
    "# convert inspection date to datetime\n",
    "df['Year'] = pd.DatetimeIndex(df['Inspect Date']).year"
   ]
  },
  {
   "cell_type": "markdown",
   "id": "dde85c15",
   "metadata": {},
   "source": [
    "### Some basic facts about this dataset"
   ]
  },
  {
   "cell_type": "code",
   "execution_count": 7,
   "id": "eede6d4e",
   "metadata": {
    "scrolled": true
   },
   "outputs": [
    {
     "data": {
      "text/plain": [
       "Not Assessed    10614\n",
       "Assessed         7702\n",
       "Name: Assessed, dtype: int64"
      ]
     },
     "execution_count": 7,
     "metadata": {},
     "output_type": "execute_result"
    }
   ],
   "source": [
    "# get the number of tree removal by property tax assessments,\n",
    "#  and via private contractors\n",
    "df['Assessed'].value_counts()"
   ]
  },
  {
   "cell_type": "code",
   "execution_count": 8,
   "id": "f9bc2a77",
   "metadata": {},
   "outputs": [
    {
     "data": {
      "text/html": [
       "<div>\n",
       "<style scoped>\n",
       "    .dataframe tbody tr th:only-of-type {\n",
       "        vertical-align: middle;\n",
       "    }\n",
       "\n",
       "    .dataframe tbody tr th {\n",
       "        vertical-align: top;\n",
       "    }\n",
       "\n",
       "    .dataframe thead th {\n",
       "        text-align: right;\n",
       "    }\n",
       "</style>\n",
       "<table border=\"1\" class=\"dataframe\">\n",
       "  <thead>\n",
       "    <tr style=\"text-align: right;\">\n",
       "      <th></th>\n",
       "      <th>Count</th>\n",
       "      <th>Address</th>\n",
       "      <th>Parcel ID</th>\n",
       "      <th>Area</th>\n",
       "      <th>Tree Type</th>\n",
       "      <th>Pest Reason</th>\n",
       "      <th>Inspect Date</th>\n",
       "      <th>Assessed</th>\n",
       "      <th>Cost per Trunk Inch</th>\n",
       "      <th>Trunk Size</th>\n",
       "      <th>Trunk Cost</th>\n",
       "      <th>Year</th>\n",
       "    </tr>\n",
       "  </thead>\n",
       "  <tbody>\n",
       "    <tr>\n",
       "      <th>4174</th>\n",
       "      <td>1</td>\n",
       "      <td>5617 IRVING AVE S</td>\n",
       "      <td>2102824240136</td>\n",
       "      <td>Other Neighborhoods</td>\n",
       "      <td>Ash</td>\n",
       "      <td>EAB</td>\n",
       "      <td>2020-01-28</td>\n",
       "      <td>Assessed</td>\n",
       "      <td>303.030303</td>\n",
       "      <td>33.0</td>\n",
       "      <td>10000.0</td>\n",
       "      <td>2020</td>\n",
       "    </tr>\n",
       "    <tr>\n",
       "      <th>17991</th>\n",
       "      <td>1</td>\n",
       "      <td>5843 SUNRISE DR</td>\n",
       "      <td>2102824310001</td>\n",
       "      <td>Other Neighborhoods</td>\n",
       "      <td>Ash</td>\n",
       "      <td>EAB</td>\n",
       "      <td>2023-03-09</td>\n",
       "      <td>Assessed</td>\n",
       "      <td>314.285714</td>\n",
       "      <td>28.0</td>\n",
       "      <td>8800.0</td>\n",
       "      <td>2023</td>\n",
       "    </tr>\n",
       "    <tr>\n",
       "      <th>13232</th>\n",
       "      <td>1</td>\n",
       "      <td>4915 EMERSON AVE S</td>\n",
       "      <td>1602824130160</td>\n",
       "      <td>Other Neighborhoods</td>\n",
       "      <td>Ash</td>\n",
       "      <td>EAB</td>\n",
       "      <td>2021-12-22</td>\n",
       "      <td>Assessed</td>\n",
       "      <td>227.272727</td>\n",
       "      <td>33.0</td>\n",
       "      <td>7500.0</td>\n",
       "      <td>2021</td>\n",
       "    </tr>\n",
       "    <tr>\n",
       "      <th>8731</th>\n",
       "      <td>1</td>\n",
       "      <td>4421 BEARD AVE S</td>\n",
       "      <td>802824340111</td>\n",
       "      <td>Other Neighborhoods</td>\n",
       "      <td>Ash</td>\n",
       "      <td>EAB</td>\n",
       "      <td>2021-02-12</td>\n",
       "      <td>Assessed</td>\n",
       "      <td>208.333333</td>\n",
       "      <td>36.0</td>\n",
       "      <td>7500.0</td>\n",
       "      <td>2021</td>\n",
       "    </tr>\n",
       "    <tr>\n",
       "      <th>13973</th>\n",
       "      <td>1</td>\n",
       "      <td>221 NEWTON AVE S</td>\n",
       "      <td>2802924220118</td>\n",
       "      <td>Other Neighborhoods</td>\n",
       "      <td>Ash</td>\n",
       "      <td>EAB</td>\n",
       "      <td>2022-01-20</td>\n",
       "      <td>Assessed</td>\n",
       "      <td>182.926829</td>\n",
       "      <td>41.0</td>\n",
       "      <td>7500.0</td>\n",
       "      <td>2022</td>\n",
       "    </tr>\n",
       "    <tr>\n",
       "      <th>8720</th>\n",
       "      <td>1</td>\n",
       "      <td>4425 BEARD AVE S</td>\n",
       "      <td>802824340110</td>\n",
       "      <td>Other Neighborhoods</td>\n",
       "      <td>Ash</td>\n",
       "      <td>EAB</td>\n",
       "      <td>2021-02-12</td>\n",
       "      <td>Assessed</td>\n",
       "      <td>208.333333</td>\n",
       "      <td>36.0</td>\n",
       "      <td>7500.0</td>\n",
       "      <td>2021</td>\n",
       "    </tr>\n",
       "    <tr>\n",
       "      <th>13598</th>\n",
       "      <td>1</td>\n",
       "      <td>1705 25TH AVE N</td>\n",
       "      <td>1602924210065</td>\n",
       "      <td>North Neighborhoods</td>\n",
       "      <td>Ash</td>\n",
       "      <td>EAB</td>\n",
       "      <td>2022-01-10</td>\n",
       "      <td>Assessed</td>\n",
       "      <td>226.666667</td>\n",
       "      <td>30.0</td>\n",
       "      <td>6800.0</td>\n",
       "      <td>2022</td>\n",
       "    </tr>\n",
       "    <tr>\n",
       "      <th>15227</th>\n",
       "      <td>1</td>\n",
       "      <td>2939 PIERCE ST N E</td>\n",
       "      <td>102924340180</td>\n",
       "      <td>Other Neighborhoods</td>\n",
       "      <td>Ash</td>\n",
       "      <td>EAB</td>\n",
       "      <td>2022-03-31</td>\n",
       "      <td>Assessed</td>\n",
       "      <td>182.000000</td>\n",
       "      <td>37.0</td>\n",
       "      <td>6734.0</td>\n",
       "      <td>2022</td>\n",
       "    </tr>\n",
       "    <tr>\n",
       "      <th>8732</th>\n",
       "      <td>1</td>\n",
       "      <td>5610 NICOLLET AVE S</td>\n",
       "      <td>2202824240052</td>\n",
       "      <td>Other Neighborhoods</td>\n",
       "      <td>Ash</td>\n",
       "      <td>EAB</td>\n",
       "      <td>2021-02-12</td>\n",
       "      <td>Assessed</td>\n",
       "      <td>174.857143</td>\n",
       "      <td>35.0</td>\n",
       "      <td>6120.0</td>\n",
       "      <td>2021</td>\n",
       "    </tr>\n",
       "    <tr>\n",
       "      <th>15527</th>\n",
       "      <td>1</td>\n",
       "      <td>3533 5TH ST N E</td>\n",
       "      <td>202924210091</td>\n",
       "      <td>Other Neighborhoods</td>\n",
       "      <td>Ash</td>\n",
       "      <td>EAB</td>\n",
       "      <td>2022-07-11</td>\n",
       "      <td>Assessed</td>\n",
       "      <td>175.000000</td>\n",
       "      <td>34.0</td>\n",
       "      <td>5950.0</td>\n",
       "      <td>2022</td>\n",
       "    </tr>\n",
       "  </tbody>\n",
       "</table>\n",
       "</div>"
      ],
      "text/plain": [
       "       Count              Address      Parcel ID                 Area  \\\n",
       "4174       1    5617 IRVING AVE S  2102824240136  Other Neighborhoods   \n",
       "17991      1      5843 SUNRISE DR  2102824310001  Other Neighborhoods   \n",
       "13232      1   4915 EMERSON AVE S  1602824130160  Other Neighborhoods   \n",
       "8731       1     4421 BEARD AVE S   802824340111  Other Neighborhoods   \n",
       "13973      1     221 NEWTON AVE S  2802924220118  Other Neighborhoods   \n",
       "8720       1     4425 BEARD AVE S   802824340110  Other Neighborhoods   \n",
       "13598      1      1705 25TH AVE N  1602924210065  North Neighborhoods   \n",
       "15227      1   2939 PIERCE ST N E   102924340180  Other Neighborhoods   \n",
       "8732       1  5610 NICOLLET AVE S  2202824240052  Other Neighborhoods   \n",
       "15527      1     3533 5TH ST N E    202924210091  Other Neighborhoods   \n",
       "\n",
       "      Tree Type Pest Reason Inspect Date  Assessed  Cost per Trunk Inch  \\\n",
       "4174        Ash         EAB   2020-01-28  Assessed           303.030303   \n",
       "17991       Ash         EAB   2023-03-09  Assessed           314.285714   \n",
       "13232       Ash         EAB   2021-12-22  Assessed           227.272727   \n",
       "8731        Ash         EAB   2021-02-12  Assessed           208.333333   \n",
       "13973       Ash         EAB   2022-01-20  Assessed           182.926829   \n",
       "8720        Ash         EAB   2021-02-12  Assessed           208.333333   \n",
       "13598       Ash         EAB   2022-01-10  Assessed           226.666667   \n",
       "15227       Ash         EAB   2022-03-31  Assessed           182.000000   \n",
       "8732        Ash         EAB   2021-02-12  Assessed           174.857143   \n",
       "15527       Ash         EAB   2022-07-11  Assessed           175.000000   \n",
       "\n",
       "       Trunk Size  Trunk Cost  Year  \n",
       "4174         33.0     10000.0  2020  \n",
       "17991        28.0      8800.0  2023  \n",
       "13232        33.0      7500.0  2021  \n",
       "8731         36.0      7500.0  2021  \n",
       "13973        41.0      7500.0  2022  \n",
       "8720         36.0      7500.0  2021  \n",
       "13598        30.0      6800.0  2022  \n",
       "15227        37.0      6734.0  2022  \n",
       "8732         35.0      6120.0  2021  \n",
       "15527        34.0      5950.0  2022  "
      ]
     },
     "execution_count": 8,
     "metadata": {},
     "output_type": "execute_result"
    }
   ],
   "source": [
    "# Look at the 10 most expensive trees\n",
    "df.sort_values(by='Trunk Cost', ascending=False).head(10)"
   ]
  },
  {
   "cell_type": "code",
   "execution_count": 9,
   "id": "b20b40b6",
   "metadata": {},
   "outputs": [
    {
     "data": {
      "text/plain": [
       "7334046.92"
      ]
     },
     "execution_count": 9,
     "metadata": {},
     "output_type": "execute_result"
    }
   ],
   "source": [
    "# Total cost of tree assessments from 2013 to 2023, in all of Minneapolis\n",
    "df['Trunk Cost'].sum()"
   ]
  },
  {
   "cell_type": "code",
   "execution_count": 10,
   "id": "396fcc97",
   "metadata": {},
   "outputs": [
    {
     "data": {
      "text/plain": [
       "2780359.95"
      ]
     },
     "execution_count": 10,
     "metadata": {},
     "output_type": "execute_result"
    }
   ],
   "source": [
    "# Total cost of tree assessments from 2013 to 2023, in North Minneapolis\n",
    "df[df['Area']=='North Neighborhoods']['Trunk Cost'].sum()"
   ]
  },
  {
   "cell_type": "code",
   "execution_count": 11,
   "id": "7ace6e2c",
   "metadata": {
    "scrolled": true
   },
   "outputs": [
    {
     "data": {
      "text/html": [
       "<div>\n",
       "<style scoped>\n",
       "    .dataframe tbody tr th:only-of-type {\n",
       "        vertical-align: middle;\n",
       "    }\n",
       "\n",
       "    .dataframe tbody tr th {\n",
       "        vertical-align: top;\n",
       "    }\n",
       "\n",
       "    .dataframe thead th {\n",
       "        text-align: right;\n",
       "    }\n",
       "</style>\n",
       "<table border=\"1\" class=\"dataframe\">\n",
       "  <thead>\n",
       "    <tr style=\"text-align: right;\">\n",
       "      <th></th>\n",
       "      <th>Count</th>\n",
       "      <th>Parcel ID</th>\n",
       "      <th>Cost per Trunk Inch</th>\n",
       "      <th>Trunk Size</th>\n",
       "      <th>Trunk Cost</th>\n",
       "      <th>Year</th>\n",
       "    </tr>\n",
       "  </thead>\n",
       "  <tbody>\n",
       "    <tr>\n",
       "      <th>count</th>\n",
       "      <td>7698.0</td>\n",
       "      <td>7.698000e+03</td>\n",
       "      <td>7696.000000</td>\n",
       "      <td>7696.000000</td>\n",
       "      <td>7696.000000</td>\n",
       "      <td>7698.000000</td>\n",
       "    </tr>\n",
       "    <tr>\n",
       "      <th>mean</th>\n",
       "      <td>1.0</td>\n",
       "      <td>1.281616e+12</td>\n",
       "      <td>51.593012</td>\n",
       "      <td>16.926715</td>\n",
       "      <td>952.968675</td>\n",
       "      <td>2020.792544</td>\n",
       "    </tr>\n",
       "    <tr>\n",
       "      <th>std</th>\n",
       "      <td>0.0</td>\n",
       "      <td>9.348644e+11</td>\n",
       "      <td>36.961347</td>\n",
       "      <td>7.454525</td>\n",
       "      <td>918.364761</td>\n",
       "      <td>1.729299</td>\n",
       "    </tr>\n",
       "    <tr>\n",
       "      <th>min</th>\n",
       "      <td>1.0</td>\n",
       "      <td>1.028241e+11</td>\n",
       "      <td>3.409091</td>\n",
       "      <td>1.000000</td>\n",
       "      <td>18.250000</td>\n",
       "      <td>2013.000000</td>\n",
       "    </tr>\n",
       "    <tr>\n",
       "      <th>25%</th>\n",
       "      <td>1.0</td>\n",
       "      <td>4.029243e+11</td>\n",
       "      <td>22.000000</td>\n",
       "      <td>12.000000</td>\n",
       "      <td>333.330000</td>\n",
       "      <td>2020.000000</td>\n",
       "    </tr>\n",
       "    <tr>\n",
       "      <th>50%</th>\n",
       "      <td>1.0</td>\n",
       "      <td>1.102824e+12</td>\n",
       "      <td>45.000000</td>\n",
       "      <td>16.000000</td>\n",
       "      <td>630.000000</td>\n",
       "      <td>2021.000000</td>\n",
       "    </tr>\n",
       "    <tr>\n",
       "      <th>75%</th>\n",
       "      <td>1.0</td>\n",
       "      <td>1.902823e+12</td>\n",
       "      <td>65.217391</td>\n",
       "      <td>22.000000</td>\n",
       "      <td>1200.000000</td>\n",
       "      <td>2022.000000</td>\n",
       "    </tr>\n",
       "    <tr>\n",
       "      <th>max</th>\n",
       "      <td>1.0</td>\n",
       "      <td>3.602924e+12</td>\n",
       "      <td>633.330000</td>\n",
       "      <td>52.000000</td>\n",
       "      <td>10000.000000</td>\n",
       "      <td>2023.000000</td>\n",
       "    </tr>\n",
       "  </tbody>\n",
       "</table>\n",
       "</div>"
      ],
      "text/plain": [
       "        Count     Parcel ID  Cost per Trunk Inch   Trunk Size    Trunk Cost  \\\n",
       "count  7698.0  7.698000e+03          7696.000000  7696.000000   7696.000000   \n",
       "mean      1.0  1.281616e+12            51.593012    16.926715    952.968675   \n",
       "std       0.0  9.348644e+11            36.961347     7.454525    918.364761   \n",
       "min       1.0  1.028241e+11             3.409091     1.000000     18.250000   \n",
       "25%       1.0  4.029243e+11            22.000000    12.000000    333.330000   \n",
       "50%       1.0  1.102824e+12            45.000000    16.000000    630.000000   \n",
       "75%       1.0  1.902823e+12            65.217391    22.000000   1200.000000   \n",
       "max       1.0  3.602924e+12           633.330000    52.000000  10000.000000   \n",
       "\n",
       "              Year  \n",
       "count  7698.000000  \n",
       "mean   2020.792544  \n",
       "std       1.729299  \n",
       "min    2013.000000  \n",
       "25%    2020.000000  \n",
       "50%    2021.000000  \n",
       "75%    2022.000000  \n",
       "max    2023.000000  "
      ]
     },
     "execution_count": 11,
     "metadata": {},
     "output_type": "execute_result"
    }
   ],
   "source": [
    "# summary data of tree removal by trunk diameter of all assessed trees\n",
    "assessed = df[df['Cost per Trunk Inch'] !=0]\n",
    "assessed.describe()"
   ]
  },
  {
   "cell_type": "markdown",
   "metadata": {},
   "source": [
    "## Exploratory data viz"
   ]
  },
  {
   "cell_type": "code",
   "execution_count": 12,
   "id": "6a8bf75e",
   "metadata": {},
   "outputs": [
    {
     "data": {
      "text/html": [
       "<div>\n",
       "<style scoped>\n",
       "    .dataframe tbody tr th:only-of-type {\n",
       "        vertical-align: middle;\n",
       "    }\n",
       "\n",
       "    .dataframe tbody tr th {\n",
       "        vertical-align: top;\n",
       "    }\n",
       "\n",
       "    .dataframe thead th {\n",
       "        text-align: right;\n",
       "    }\n",
       "</style>\n",
       "<table border=\"1\" class=\"dataframe\">\n",
       "  <thead>\n",
       "    <tr style=\"text-align: right;\">\n",
       "      <th>Area</th>\n",
       "      <th>Year</th>\n",
       "      <th>North Neighborhoods</th>\n",
       "      <th>Other Neighborhoods</th>\n",
       "    </tr>\n",
       "  </thead>\n",
       "  <tbody>\n",
       "    <tr>\n",
       "      <th>0</th>\n",
       "      <td>2013</td>\n",
       "      <td>NaN</td>\n",
       "      <td>38.0</td>\n",
       "    </tr>\n",
       "    <tr>\n",
       "      <th>1</th>\n",
       "      <td>2014</td>\n",
       "      <td>NaN</td>\n",
       "      <td>30.0</td>\n",
       "    </tr>\n",
       "    <tr>\n",
       "      <th>2</th>\n",
       "      <td>2015</td>\n",
       "      <td>NaN</td>\n",
       "      <td>75.0</td>\n",
       "    </tr>\n",
       "    <tr>\n",
       "      <th>3</th>\n",
       "      <td>2016</td>\n",
       "      <td>71.0</td>\n",
       "      <td>49.0</td>\n",
       "    </tr>\n",
       "    <tr>\n",
       "      <th>4</th>\n",
       "      <td>2017</td>\n",
       "      <td>60.0</td>\n",
       "      <td>56.0</td>\n",
       "    </tr>\n",
       "    <tr>\n",
       "      <th>5</th>\n",
       "      <td>2018</td>\n",
       "      <td>97.0</td>\n",
       "      <td>194.0</td>\n",
       "    </tr>\n",
       "    <tr>\n",
       "      <th>6</th>\n",
       "      <td>2019</td>\n",
       "      <td>173.0</td>\n",
       "      <td>369.0</td>\n",
       "    </tr>\n",
       "    <tr>\n",
       "      <th>7</th>\n",
       "      <td>2020</td>\n",
       "      <td>241.0</td>\n",
       "      <td>908.0</td>\n",
       "    </tr>\n",
       "    <tr>\n",
       "      <th>8</th>\n",
       "      <td>2021</td>\n",
       "      <td>1757.0</td>\n",
       "      <td>1252.0</td>\n",
       "    </tr>\n",
       "    <tr>\n",
       "      <th>9</th>\n",
       "      <td>2022</td>\n",
       "      <td>575.0</td>\n",
       "      <td>544.0</td>\n",
       "    </tr>\n",
       "    <tr>\n",
       "      <th>10</th>\n",
       "      <td>2023</td>\n",
       "      <td>109.0</td>\n",
       "      <td>1100.0</td>\n",
       "    </tr>\n",
       "  </tbody>\n",
       "</table>\n",
       "</div>"
      ],
      "text/plain": [
       "Area  Year  North Neighborhoods  Other Neighborhoods\n",
       "0     2013                  NaN                 38.0\n",
       "1     2014                  NaN                 30.0\n",
       "2     2015                  NaN                 75.0\n",
       "3     2016                 71.0                 49.0\n",
       "4     2017                 60.0                 56.0\n",
       "5     2018                 97.0                194.0\n",
       "6     2019                173.0                369.0\n",
       "7     2020                241.0                908.0\n",
       "8     2021               1757.0               1252.0\n",
       "9     2022                575.0                544.0\n",
       "10    2023                109.0               1100.0"
      ]
     },
     "execution_count": 12,
     "metadata": {},
     "output_type": "execute_result"
    }
   ],
   "source": [
    "# Create a pivot table for all tree removals via assessments\n",
    "\n",
    "table = pd.pivot_table(assessed, values='Count', index=['Year'],\n",
    "                       columns=['Area'], aggfunc=\"count\")\n",
    "table.reset_index()"
   ]
  },
  {
   "cell_type": "markdown",
   "metadata": {},
   "source": [
    "Create a bar chart with number of assessment by year, by neighborhood areas"
   ]
  },
  {
   "cell_type": "code",
   "execution_count": 13,
   "id": "1492d847",
   "metadata": {
    "scrolled": false
   },
   "outputs": [
    {
     "data": {
      "text/plain": [
       "<AxesSubplot: title={'center': 'Number of Assessment by year'}, xlabel='Year'>"
      ]
     },
     "execution_count": 13,
     "metadata": {},
     "output_type": "execute_result"
    },
    {
     "data": {
      "image/png": "[encoded data removed]",
      "text/plain": [
       "<Figure size 640x480 with 1 Axes>"
      ]
     },
     "metadata": {},
     "output_type": "display_data"
    }
   ],
   "source": [
    "table.plot(kind='bar', stacked=True, title=\"Number of Assessment by year\")\n"
   ]
  },
  {
   "cell_type": "code",
   "execution_count": 14,
   "id": "1ba5a64e",
   "metadata": {},
   "outputs": [
    {
     "data": {
      "text/html": [
       "<div>\n",
       "<style scoped>\n",
       "    .dataframe tbody tr th:only-of-type {\n",
       "        vertical-align: middle;\n",
       "    }\n",
       "\n",
       "    .dataframe tbody tr th {\n",
       "        vertical-align: top;\n",
       "    }\n",
       "\n",
       "    .dataframe thead th {\n",
       "        text-align: right;\n",
       "    }\n",
       "</style>\n",
       "<table border=\"1\" class=\"dataframe\">\n",
       "  <thead>\n",
       "    <tr style=\"text-align: right;\">\n",
       "      <th>Area</th>\n",
       "      <th>Year</th>\n",
       "      <th>North Neighborhoods</th>\n",
       "      <th>Other Neighborhoods</th>\n",
       "    </tr>\n",
       "  </thead>\n",
       "  <tbody>\n",
       "    <tr>\n",
       "      <th>0</th>\n",
       "      <td>2013</td>\n",
       "      <td>NaN</td>\n",
       "      <td>255.0</td>\n",
       "    </tr>\n",
       "    <tr>\n",
       "      <th>1</th>\n",
       "      <td>2014</td>\n",
       "      <td>1.0</td>\n",
       "      <td>52.0</td>\n",
       "    </tr>\n",
       "  </tbody>\n",
       "</table>\n",
       "</div>"
      ],
      "text/plain": [
       "Area  Year  North Neighborhoods  Other Neighborhoods\n",
       "0     2013                  NaN                255.0\n",
       "1     2014                  1.0                 52.0"
      ]
     },
     "execution_count": 14,
     "metadata": {},
     "output_type": "execute_result"
    }
   ],
   "source": [
    "# Create a pivot table for all tree removals\n",
    "\n",
    "table_all = pd.pivot_table(df, values='Count', index=['Year'],\n",
    "                       columns=['Area'], aggfunc=\"count\")\n",
    "table_all.reset_index().head(2)"
   ]
  },
  {
   "cell_type": "code",
   "execution_count": 15,
   "id": "560d6833",
   "metadata": {},
   "outputs": [
    {
     "data": {
      "text/plain": [
       "<AxesSubplot: title={'center': 'Number of inspections by year'}, xlabel='Year'>"
      ]
     },
     "execution_count": 15,
     "metadata": {},
     "output_type": "execute_result"
    },
    {
     "data": {
      "image/png": "[encoded data removed]",
      "text/plain": [
       "<Figure size 640x480 with 1 Axes>"
      ]
     },
     "metadata": {},
     "output_type": "display_data"
    }
   ],
   "source": [
    "table_all.plot(kind='bar', stacked=True, title=\"Number of inspections by year\")"
   ]
  },
  {
   "cell_type": "code",
   "execution_count": 16,
   "id": "e689b120",
   "metadata": {},
   "outputs": [
    {
     "data": {
      "text/html": [
       "<div>\n",
       "<style scoped>\n",
       "    .dataframe tbody tr th:only-of-type {\n",
       "        vertical-align: middle;\n",
       "    }\n",
       "\n",
       "    .dataframe tbody tr th {\n",
       "        vertical-align: top;\n",
       "    }\n",
       "\n",
       "    .dataframe thead th {\n",
       "        text-align: right;\n",
       "    }\n",
       "</style>\n",
       "<table border=\"1\" class=\"dataframe\">\n",
       "  <thead>\n",
       "    <tr style=\"text-align: right;\">\n",
       "      <th>Area</th>\n",
       "      <th>North Neighborhoods</th>\n",
       "      <th>Other Neighborhoods</th>\n",
       "      <th>sum</th>\n",
       "      <th>North Pct</th>\n",
       "      <th>Other Pct</th>\n",
       "    </tr>\n",
       "    <tr>\n",
       "      <th>Year</th>\n",
       "      <th></th>\n",
       "      <th></th>\n",
       "      <th></th>\n",
       "      <th></th>\n",
       "      <th></th>\n",
       "    </tr>\n",
       "  </thead>\n",
       "  <tbody>\n",
       "    <tr>\n",
       "      <th>2013</th>\n",
       "      <td>NaN</td>\n",
       "      <td>38.0</td>\n",
       "      <td>NaN</td>\n",
       "      <td>NaN</td>\n",
       "      <td>NaN</td>\n",
       "    </tr>\n",
       "    <tr>\n",
       "      <th>2014</th>\n",
       "      <td>NaN</td>\n",
       "      <td>30.0</td>\n",
       "      <td>NaN</td>\n",
       "      <td>NaN</td>\n",
       "      <td>NaN</td>\n",
       "    </tr>\n",
       "    <tr>\n",
       "      <th>2015</th>\n",
       "      <td>NaN</td>\n",
       "      <td>75.0</td>\n",
       "      <td>NaN</td>\n",
       "      <td>NaN</td>\n",
       "      <td>NaN</td>\n",
       "    </tr>\n",
       "    <tr>\n",
       "      <th>2016</th>\n",
       "      <td>71.0</td>\n",
       "      <td>49.0</td>\n",
       "      <td>120.0</td>\n",
       "      <td>0.591667</td>\n",
       "      <td>0.408333</td>\n",
       "    </tr>\n",
       "    <tr>\n",
       "      <th>2017</th>\n",
       "      <td>60.0</td>\n",
       "      <td>56.0</td>\n",
       "      <td>116.0</td>\n",
       "      <td>0.517241</td>\n",
       "      <td>0.482759</td>\n",
       "    </tr>\n",
       "    <tr>\n",
       "      <th>2018</th>\n",
       "      <td>97.0</td>\n",
       "      <td>194.0</td>\n",
       "      <td>291.0</td>\n",
       "      <td>0.333333</td>\n",
       "      <td>0.666667</td>\n",
       "    </tr>\n",
       "    <tr>\n",
       "      <th>2019</th>\n",
       "      <td>173.0</td>\n",
       "      <td>369.0</td>\n",
       "      <td>542.0</td>\n",
       "      <td>0.319188</td>\n",
       "      <td>0.680812</td>\n",
       "    </tr>\n",
       "    <tr>\n",
       "      <th>2020</th>\n",
       "      <td>241.0</td>\n",
       "      <td>908.0</td>\n",
       "      <td>1149.0</td>\n",
       "      <td>0.209748</td>\n",
       "      <td>0.790252</td>\n",
       "    </tr>\n",
       "    <tr>\n",
       "      <th>2021</th>\n",
       "      <td>1757.0</td>\n",
       "      <td>1252.0</td>\n",
       "      <td>3009.0</td>\n",
       "      <td>0.583915</td>\n",
       "      <td>0.416085</td>\n",
       "    </tr>\n",
       "    <tr>\n",
       "      <th>2022</th>\n",
       "      <td>575.0</td>\n",
       "      <td>544.0</td>\n",
       "      <td>1119.0</td>\n",
       "      <td>0.513852</td>\n",
       "      <td>0.486148</td>\n",
       "    </tr>\n",
       "    <tr>\n",
       "      <th>2023</th>\n",
       "      <td>109.0</td>\n",
       "      <td>1100.0</td>\n",
       "      <td>1209.0</td>\n",
       "      <td>0.090157</td>\n",
       "      <td>0.909843</td>\n",
       "    </tr>\n",
       "  </tbody>\n",
       "</table>\n",
       "</div>"
      ],
      "text/plain": [
       "Area  North Neighborhoods  Other Neighborhoods     sum  North Pct  Other Pct\n",
       "Year                                                                        \n",
       "2013                  NaN                 38.0     NaN        NaN        NaN\n",
       "2014                  NaN                 30.0     NaN        NaN        NaN\n",
       "2015                  NaN                 75.0     NaN        NaN        NaN\n",
       "2016                 71.0                 49.0   120.0   0.591667   0.408333\n",
       "2017                 60.0                 56.0   116.0   0.517241   0.482759\n",
       "2018                 97.0                194.0   291.0   0.333333   0.666667\n",
       "2019                173.0                369.0   542.0   0.319188   0.680812\n",
       "2020                241.0                908.0  1149.0   0.209748   0.790252\n",
       "2021               1757.0               1252.0  3009.0   0.583915   0.416085\n",
       "2022                575.0                544.0  1119.0   0.513852   0.486148\n",
       "2023                109.0               1100.0  1209.0   0.090157   0.909843"
      ]
     },
     "execution_count": 16,
     "metadata": {},
     "output_type": "execute_result"
    }
   ],
   "source": [
    "# Create a table for percentage of assessments by neighborhoods\n",
    "table['sum'] = table['North Neighborhoods'] + table['Other Neighborhoods']\n",
    "table['North Pct'] = table['North Neighborhoods']/table['sum']\n",
    "table['Other Pct'] = table['Other Neighborhoods']/table['sum']\n",
    "table"
   ]
  },
  {
   "cell_type": "markdown",
   "metadata": {},
   "source": [
    "What's the distribution for Trunk Cost?"
   ]
  },
  {
   "cell_type": "code",
   "execution_count": 17,
   "id": "6367876f",
   "metadata": {
    "scrolled": false
   },
   "outputs": [
    {
     "data": {
      "text/plain": [
       "<AxesSubplot: title={'center': 'Distribution of Trunk Cost for all inspections'}, ylabel='Frequency'>"
      ]
     },
     "execution_count": 17,
     "metadata": {},
     "output_type": "execute_result"
    },
    {
     "data": {
      "image/png": "[encoded data removed]",
      "text/plain": [
       "<Figure size 640x480 with 1 Axes>"
      ]
     },
     "metadata": {},
     "output_type": "display_data"
    }
   ],
   "source": [
    "assessed['Trunk Cost'].plot.hist(bins=40, title = 'Distribution of Trunk Cost for all inspections')"
   ]
  },
  {
   "cell_type": "code",
   "execution_count": 18,
   "id": "9221237e",
   "metadata": {},
   "outputs": [
    {
     "data": {
      "text/plain": [
       "<AxesSubplot: title={'center': 'Distribution of Cost per Trunk Inch for all inspections'}, ylabel='Frequency'>"
      ]
     },
     "execution_count": 18,
     "metadata": {},
     "output_type": "execute_result"
    },
    {
     "data": {
      "image/png": "[encoded data removed]",
      "text/plain": [
       "<Figure size 640x480 with 1 Axes>"
      ]
     },
     "metadata": {},
     "output_type": "display_data"
    }
   ],
   "source": [
    "# What's the distribution for cost per trunk inch?\n",
    "\n",
    "assessed['Cost per Trunk Inch'].plot.hist(bins=50, title = 'Distribution of Cost per Trunk Inch for all inspections')"
   ]
  },
  {
   "cell_type": "markdown",
   "id": "8d35edff",
   "metadata": {},
   "source": [
    "# Hypothesis Testing"
   ]
  },
  {
   "cell_type": "markdown",
   "id": "97145496",
   "metadata": {},
   "source": [
    "## Hypothesis #1: \n",
    "**North neighborhoods are more prone to being assessed compared to other neighborhoods.**\n",
    "\n",
    "Running a Chi Square test on whether there's statistically significant disparity between north neighborhood and other neighborhoods."
   ]
  },
  {
   "cell_type": "code",
   "execution_count": 19,
   "id": "5275a246",
   "metadata": {},
   "outputs": [],
   "source": [
    "# import packages\n",
    "\n",
    "from pandas import crosstab\n",
    "pd.options.display.max_rows = None"
   ]
  },
  {
   "cell_type": "code",
   "execution_count": 20,
   "id": "e024715e",
   "metadata": {
    "scrolled": false
   },
   "outputs": [
    {
     "data": {
      "text/html": [
       "<div>\n",
       "<style scoped>\n",
       "    .dataframe tbody tr th:only-of-type {\n",
       "        vertical-align: middle;\n",
       "    }\n",
       "\n",
       "    .dataframe tbody tr th {\n",
       "        vertical-align: top;\n",
       "    }\n",
       "\n",
       "    .dataframe thead th {\n",
       "        text-align: right;\n",
       "    }\n",
       "</style>\n",
       "<table border=\"1\" class=\"dataframe\">\n",
       "  <thead>\n",
       "    <tr style=\"text-align: right;\">\n",
       "      <th></th>\n",
       "      <th>Count</th>\n",
       "      <th>Address</th>\n",
       "      <th>Parcel ID</th>\n",
       "      <th>Area</th>\n",
       "      <th>Tree Type</th>\n",
       "      <th>Pest Reason</th>\n",
       "      <th>Inspect Date</th>\n",
       "      <th>Assessed</th>\n",
       "      <th>Cost per Trunk Inch</th>\n",
       "      <th>Trunk Size</th>\n",
       "      <th>Trunk Cost</th>\n",
       "      <th>Year</th>\n",
       "      <th>assessed_flag</th>\n",
       "      <th>north_flag</th>\n",
       "    </tr>\n",
       "  </thead>\n",
       "  <tbody>\n",
       "    <tr>\n",
       "      <th>0</th>\n",
       "      <td>1</td>\n",
       "      <td>19 BARTON AVE SE</td>\n",
       "      <td>3002923420124</td>\n",
       "      <td>Other Neighborhoods</td>\n",
       "      <td>Green Ash</td>\n",
       "      <td>EAB</td>\n",
       "      <td>2013-03-08</td>\n",
       "      <td>Not Assessed</td>\n",
       "      <td>0.0</td>\n",
       "      <td>17.0</td>\n",
       "      <td>NaN</td>\n",
       "      <td>2013</td>\n",
       "      <td>0</td>\n",
       "      <td>0</td>\n",
       "    </tr>\n",
       "    <tr>\n",
       "      <th>1</th>\n",
       "      <td>1</td>\n",
       "      <td>19 BARTON AVE SE</td>\n",
       "      <td>3002923420124</td>\n",
       "      <td>Other Neighborhoods</td>\n",
       "      <td>Green Ash</td>\n",
       "      <td>EAB</td>\n",
       "      <td>2013-03-08</td>\n",
       "      <td>Not Assessed</td>\n",
       "      <td>0.0</td>\n",
       "      <td>11.0</td>\n",
       "      <td>NaN</td>\n",
       "      <td>2013</td>\n",
       "      <td>0</td>\n",
       "      <td>0</td>\n",
       "    </tr>\n",
       "    <tr>\n",
       "      <th>2</th>\n",
       "      <td>1</td>\n",
       "      <td>19 BARTON AVE SE</td>\n",
       "      <td>3002923420124</td>\n",
       "      <td>Other Neighborhoods</td>\n",
       "      <td>Green Ash</td>\n",
       "      <td>EAB</td>\n",
       "      <td>2013-03-08</td>\n",
       "      <td>Not Assessed</td>\n",
       "      <td>0.0</td>\n",
       "      <td>7.0</td>\n",
       "      <td>NaN</td>\n",
       "      <td>2013</td>\n",
       "      <td>0</td>\n",
       "      <td>0</td>\n",
       "    </tr>\n",
       "    <tr>\n",
       "      <th>3</th>\n",
       "      <td>1</td>\n",
       "      <td>19 BARTON AVE SE</td>\n",
       "      <td>3002923420124</td>\n",
       "      <td>Other Neighborhoods</td>\n",
       "      <td>Green Ash</td>\n",
       "      <td>EAB</td>\n",
       "      <td>2013-03-08</td>\n",
       "      <td>Not Assessed</td>\n",
       "      <td>0.0</td>\n",
       "      <td>6.0</td>\n",
       "      <td>NaN</td>\n",
       "      <td>2013</td>\n",
       "      <td>0</td>\n",
       "      <td>0</td>\n",
       "    </tr>\n",
       "    <tr>\n",
       "      <th>4</th>\n",
       "      <td>1</td>\n",
       "      <td>19 BARTON AVE SE</td>\n",
       "      <td>3002923420124</td>\n",
       "      <td>Other Neighborhoods</td>\n",
       "      <td>Green Ash</td>\n",
       "      <td>EAB</td>\n",
       "      <td>2013-03-08</td>\n",
       "      <td>Not Assessed</td>\n",
       "      <td>0.0</td>\n",
       "      <td>4.0</td>\n",
       "      <td>NaN</td>\n",
       "      <td>2013</td>\n",
       "      <td>0</td>\n",
       "      <td>0</td>\n",
       "    </tr>\n",
       "  </tbody>\n",
       "</table>\n",
       "</div>"
      ],
      "text/plain": [
       "   Count            Address      Parcel ID                 Area  Tree Type  \\\n",
       "0      1  19 BARTON AVE SE   3002923420124  Other Neighborhoods  Green Ash   \n",
       "1      1  19 BARTON AVE SE   3002923420124  Other Neighborhoods  Green Ash   \n",
       "2      1  19 BARTON AVE SE   3002923420124  Other Neighborhoods  Green Ash   \n",
       "3      1  19 BARTON AVE SE   3002923420124  Other Neighborhoods  Green Ash   \n",
       "4      1  19 BARTON AVE SE   3002923420124  Other Neighborhoods  Green Ash   \n",
       "\n",
       "  Pest Reason Inspect Date      Assessed  Cost per Trunk Inch  Trunk Size  \\\n",
       "0         EAB   2013-03-08  Not Assessed                  0.0        17.0   \n",
       "1         EAB   2013-03-08  Not Assessed                  0.0        11.0   \n",
       "2         EAB   2013-03-08  Not Assessed                  0.0         7.0   \n",
       "3         EAB   2013-03-08  Not Assessed                  0.0         6.0   \n",
       "4         EAB   2013-03-08  Not Assessed                  0.0         4.0   \n",
       "\n",
       "   Trunk Cost  Year  assessed_flag  north_flag  \n",
       "0         NaN  2013              0           0  \n",
       "1         NaN  2013              0           0  \n",
       "2         NaN  2013              0           0  \n",
       "3         NaN  2013              0           0  \n",
       "4         NaN  2013              0           0  "
      ]
     },
     "execution_count": 20,
     "metadata": {},
     "output_type": "execute_result"
    }
   ],
   "source": [
    "# Encode neighborhood column and accessed column to prepare for statistical testing.\n",
    "\n",
    "df['assessed_flag'] = df['Assessed'].map({'Assessed': 1, 'Not Assessed': 0})\n",
    "df['north_flag'] = df['Area'].map({'North Neighborhoods': 1, 'Other Neighborhoods': 0})\n",
    "df.head()"
   ]
  },
  {
   "cell_type": "code",
   "execution_count": 21,
   "id": "2611cc56",
   "metadata": {},
   "outputs": [
    {
     "name": "stdout",
     "output_type": "stream",
     "text": [
      "Total spending on tree assessment in all of Minneapolis: 7334046.92\n",
      "Total spending on tree assessment in North neighborhoods: 2780359.95\n"
     ]
    }
   ],
   "source": [
    "# basic stats on tree assessment spending, 2013-current\n",
    "\n",
    "print(\"Total spending on tree assessment in all of Minneapolis:\", df['Trunk Cost'].sum())\n",
    "print(\"Total spending on tree assessment in North neighborhoods:\", df[df['Area']=='North Neighborhoods']\\\n",
    "      ['Trunk Cost'].sum())"
   ]
  },
  {
   "cell_type": "code",
   "execution_count": 22,
   "id": "bcc1b93f",
   "metadata": {},
   "outputs": [
    {
     "name": "stderr",
     "output_type": "stream",
     "text": [
      "/Users/tuxinyi/.pyenv/versions/3.11.0rc2/lib/python3.11/site-packages/rpy2/robjects/pandas2ri.py:65: UserWarning: Error while trying to convert the column \"Parcel ID\". Fall back to string conversion. The error is: integer 3002923420124 does not fit '32-bit int'\n",
      "  warnings.warn('Error while trying to convert '\n"
     ]
    },
    {
     "data": {
      "image/png": "[encoded data removed]",
      "text/plain": [
       "<IPython.core.display.Image object>"
      ]
     },
     "metadata": {},
     "output_type": "display_data"
    }
   ],
   "source": [
    "%%R -i df -w 400 -h 400\n",
    "\n",
    "ggplot(df, aes(fill=Assessed, x=Area, y=1)) + \n",
    "    geom_bar(position=\"fill\", stat=\"identity\")+\n",
    "    labs(title=\"Percentage of Assessed v.s. Not-Assessed Trees \\nby neighborhoods\") +\n",
    "    theme_minimal()"
   ]
  },
  {
   "cell_type": "code",
   "execution_count": 23,
   "id": "180fe19e",
   "metadata": {},
   "outputs": [
    {
     "data": {
      "image/png": "[encoded data removed]",
      "text/plain": [
       "<IPython.core.display.Image object>"
      ]
     },
     "metadata": {},
     "output_type": "display_data"
    }
   ],
   "source": [
    "%%R -i df -w 400 -h 400\n",
    "\n",
    "ggplot(df, aes(fill=Assessed, x=Area, y=1)) + \n",
    "    geom_bar(position=\"stack\", stat=\"identity\") +\n",
    "    labs(title=\"Total Assessed v.s. Not-Assessed Trees \\nby neighborhoods\") +\n",
    "    theme_minimal()"
   ]
  },
  {
   "cell_type": "code",
   "execution_count": 24,
   "id": "2527bfbc",
   "metadata": {
    "scrolled": true
   },
   "outputs": [
    {
     "name": "stdout",
     "output_type": "stream",
     "text": [
      "   \n",
      "    North Neighborhoods Other Neighborhoods\n",
      "  0                2524                8090\n",
      "  1                3084                4618\n",
      "\n",
      "\tPearson's Chi-squared test\n",
      "\n",
      "data:  to_test\n",
      "X-squared = 555.59, df = 1, p-value < 2.2e-16\n",
      "\n"
     ]
    }
   ],
   "source": [
    "%%R -i df\n",
    "\n",
    "# Chi Square test chance of of having trees assessed between North and other neighborhoods\n",
    "\n",
    "to_test <- table(df$assessed_flag, df$Area)\n",
    "print(to_test)\n",
    "chisq.test(to_test, correct=FALSE)"
   ]
  },
  {
   "cell_type": "markdown",
   "id": "b552fbcd",
   "metadata": {},
   "source": [
    "### Conclusion:\n",
    "- P-value < 0.05, meaning that the observed difference between North neighborhoods and other neighborhoods' chance of having their trees assessed **is statistically significant**. \n",
    "\n",
    "#### Note on P-value:\n",
    "P-value is a statisical measure used to determine of the likelihood that an observed outcome is result of chance. A smaller P-value means there's a smaller likelihood that the difference is due to simple random chance. When a p-value is smaller than 0.05, we can conclude that the outcome is statistically significant."
   ]
  },
  {
   "cell_type": "markdown",
   "id": "4af9d372",
   "metadata": {},
   "source": [
    "## Hypothesis #2\n",
    "**There's a disparity between cost of trunk for North neighborhood comparing to other neighborhoods.**"
   ]
  },
  {
   "cell_type": "code",
   "execution_count": 25,
   "id": "63e43ec7",
   "metadata": {},
   "outputs": [
    {
     "name": "stdout",
     "output_type": "stream",
     "text": [
      "North Neighborhood Summary all years\n"
     ]
    },
    {
     "data": {
      "text/html": [
       "<div>\n",
       "<style scoped>\n",
       "    .dataframe tbody tr th:only-of-type {\n",
       "        vertical-align: middle;\n",
       "    }\n",
       "\n",
       "    .dataframe tbody tr th {\n",
       "        vertical-align: top;\n",
       "    }\n",
       "\n",
       "    .dataframe thead th {\n",
       "        text-align: right;\n",
       "    }\n",
       "</style>\n",
       "<table border=\"1\" class=\"dataframe\">\n",
       "  <thead>\n",
       "    <tr style=\"text-align: right;\">\n",
       "      <th></th>\n",
       "      <th>Count</th>\n",
       "      <th>Parcel ID</th>\n",
       "      <th>Cost per Trunk Inch</th>\n",
       "      <th>Trunk Size</th>\n",
       "      <th>Trunk Cost</th>\n",
       "      <th>Year</th>\n",
       "    </tr>\n",
       "  </thead>\n",
       "  <tbody>\n",
       "    <tr>\n",
       "      <th>mean</th>\n",
       "      <td>1.0</td>\n",
       "      <td>1.022632e+12</td>\n",
       "      <td>48.639867</td>\n",
       "      <td>16.968213</td>\n",
       "      <td>901.835858</td>\n",
       "      <td>2020.779436</td>\n",
       "    </tr>\n",
       "    <tr>\n",
       "      <th>50%</th>\n",
       "      <td>1.0</td>\n",
       "      <td>9.029243e+11</td>\n",
       "      <td>42.000000</td>\n",
       "      <td>16.000000</td>\n",
       "      <td>666.670000</td>\n",
       "      <td>2021.000000</td>\n",
       "    </tr>\n",
       "  </tbody>\n",
       "</table>\n",
       "</div>"
      ],
      "text/plain": [
       "      Count     Parcel ID  Cost per Trunk Inch  Trunk Size  Trunk Cost  \\\n",
       "mean    1.0  1.022632e+12            48.639867   16.968213  901.835858   \n",
       "50%     1.0  9.029243e+11            42.000000   16.000000  666.670000   \n",
       "\n",
       "             Year  \n",
       "mean  2020.779436  \n",
       "50%   2021.000000  "
      ]
     },
     "execution_count": 25,
     "metadata": {},
     "output_type": "execute_result"
    }
   ],
   "source": [
    "# Comparing average and median cost between North neighborhoods and other neighborhoods\n",
    "# Note: 50% stands for median\n",
    "\n",
    "print('North Neighborhood Summary all years')\n",
    "assessed[assessed['Area']== 'North Neighborhoods'].describe().loc[['mean', '50%']]"
   ]
  },
  {
   "cell_type": "code",
   "execution_count": 26,
   "id": "22c48195",
   "metadata": {
    "scrolled": true
   },
   "outputs": [
    {
     "name": "stdout",
     "output_type": "stream",
     "text": [
      "Other Neighborhood Summary all years\n"
     ]
    },
    {
     "data": {
      "text/html": [
       "<div>\n",
       "<style scoped>\n",
       "    .dataframe tbody tr th:only-of-type {\n",
       "        vertical-align: middle;\n",
       "    }\n",
       "\n",
       "    .dataframe tbody tr th {\n",
       "        vertical-align: top;\n",
       "    }\n",
       "\n",
       "    .dataframe thead th {\n",
       "        text-align: right;\n",
       "    }\n",
       "</style>\n",
       "<table border=\"1\" class=\"dataframe\">\n",
       "  <thead>\n",
       "    <tr style=\"text-align: right;\">\n",
       "      <th></th>\n",
       "      <th>Count</th>\n",
       "      <th>Parcel ID</th>\n",
       "      <th>Cost per Trunk Inch</th>\n",
       "      <th>Trunk Size</th>\n",
       "      <th>Trunk Cost</th>\n",
       "      <th>Year</th>\n",
       "    </tr>\n",
       "  </thead>\n",
       "  <tbody>\n",
       "    <tr>\n",
       "      <th>mean</th>\n",
       "      <td>1.0</td>\n",
       "      <td>1.454627e+12</td>\n",
       "      <td>53.566683</td>\n",
       "      <td>16.898981</td>\n",
       "      <td>987.1422</td>\n",
       "      <td>2020.8013</td>\n",
       "    </tr>\n",
       "    <tr>\n",
       "      <th>50%</th>\n",
       "      <td>1.0</td>\n",
       "      <td>1.302824e+12</td>\n",
       "      <td>46.875000</td>\n",
       "      <td>15.000000</td>\n",
       "      <td>630.0000</td>\n",
       "      <td>2021.0000</td>\n",
       "    </tr>\n",
       "  </tbody>\n",
       "</table>\n",
       "</div>"
      ],
      "text/plain": [
       "      Count     Parcel ID  Cost per Trunk Inch  Trunk Size  Trunk Cost  \\\n",
       "mean    1.0  1.454627e+12            53.566683   16.898981    987.1422   \n",
       "50%     1.0  1.302824e+12            46.875000   15.000000    630.0000   \n",
       "\n",
       "           Year  \n",
       "mean  2020.8013  \n",
       "50%   2021.0000  "
      ]
     },
     "execution_count": 26,
     "metadata": {},
     "output_type": "execute_result"
    }
   ],
   "source": [
    "print('Other Neighborhood Summary all years')\n",
    "assessed[assessed['Area']== 'Other Neighborhoods'].describe().loc[['mean', '50%']]"
   ]
  },
  {
   "cell_type": "code",
   "execution_count": 27,
   "id": "c791ac38",
   "metadata": {
    "scrolled": false
   },
   "outputs": [
    {
     "name": "stderr",
     "output_type": "stream",
     "text": [
      "/Users/tuxinyi/.pyenv/versions/3.11.0rc2/lib/python3.11/site-packages/rpy2/robjects/pandas2ri.py:65: UserWarning: Error while trying to convert the column \"Parcel ID\". Fall back to string conversion. The error is: integer 3002923440019 does not fit '32-bit int'\n",
      "  warnings.warn('Error while trying to convert '\n",
      "R[write to console]: In addition: \n",
      "R[write to console]: Warning messages:\n",
      "\n",
      "R[write to console]: 1: Removed 2 rows containing non-finite values (`stat_ydensity()`). \n",
      "\n",
      "R[write to console]: 2: Removed 2 rows containing non-finite values (`stat_summary()`). \n",
      "\n"
     ]
    },
    {
     "data": {
      "text/plain": [
       "In addition: Warning message:\n",
       "The `fun.y` argument of `stat_summary()` is deprecated as of ggplot2 3.3.0.\n",
       "ℹ Please use the `fun` argument instead.\n",
       "This warning is displayed once every 8 hours.\n",
       "Call `lifecycle::last_lifecycle_warnings()` to see where this warning was\n",
       "generated. \n"
      ]
     },
     "metadata": {},
     "output_type": "display_data"
    },
    {
     "data": {
      "image/png": "[encoded data removed]",
      "text/plain": [
       "<IPython.core.display.Image object>"
      ]
     },
     "metadata": {},
     "output_type": "display_data"
    }
   ],
   "source": [
    "%%R -w 500 -h 300 -i assessed\n",
    "\n",
    "ggplot(assessed) +\n",
    "    aes(x=`Trunk Cost`, y=Area, fill=Area, alpha =0.5) + \n",
    "    geom_violin() +\n",
    "    stat_summary(fun.y=median, geom=\"point\", size=1.5, color=\"red\")+\n",
    "    labs(title=\"Distribution of Trunk Cost by neighborhoods\") +\n",
    "    theme_minimal()"
   ]
  },
  {
   "cell_type": "markdown",
   "id": "788bb399",
   "metadata": {},
   "source": [
    "Shown above's a distribution chart graphing trunk cost by neighborhoods.\\\n",
    "\\\n",
    "Though the **average** for assessment cost is **higher for other neighrborhoods**, the **median (red dot) for North neighborhood is higher**.\\\n",
    "This is due to a few **outliers:** standalone cases with extremely costly assesment in other neighborhoods, which **skewed the average to be higher.**"
   ]
  },
  {
   "cell_type": "code",
   "execution_count": 28,
   "id": "063fb8f7",
   "metadata": {
    "scrolled": false
   },
   "outputs": [
    {
     "name": "stderr",
     "output_type": "stream",
     "text": [
      "R[write to console]: In addition: \n",
      "R[write to console]: Warning messages:\n",
      "\n",
      "R[write to console]: 1: Removed 2 rows containing non-finite values (`stat_ydensity()`). \n",
      "\n",
      "R[write to console]: 2: Removed 2 rows containing non-finite values (`stat_summary()`). \n",
      "\n"
     ]
    },
    {
     "data": {
      "image/png": "[encoded data removed]",
      "text/plain": [
       "<IPython.core.display.Image object>"
      ]
     },
     "metadata": {},
     "output_type": "display_data"
    }
   ],
   "source": [
    "%%R -w 500 -h 300\n",
    "\n",
    "ggplot(assessed) +\n",
    "    aes(x=`Cost per Trunk Inch`, y=Area, fill=Area, alpha =0.5) + \n",
    "    geom_violin() +\n",
    "    stat_summary(fun.y=median, geom=\"point\", size=1.5, color=\"red\")+\n",
    "    labs(title=\"Distribution of Cost per Trunk Inch by neighborhoods\") +\n",
    "    theme_minimal()"
   ]
  },
  {
   "cell_type": "markdown",
   "id": "8bd5a545",
   "metadata": {},
   "source": [
    "In addition:\n",
    "\n",
    "Though by looking at average and median, **trunk cost per inch is relatively lower in North neighborhoods**;  **variance for trunk cost per inch in North neighborhood is bigger**.\n",
    "\n",
    "#### Next step:\n",
    "Let's run a T-test to see if the difference between neighborhoods for trunk cost is statistically significant."
   ]
  },
  {
   "cell_type": "code",
   "execution_count": 29,
   "id": "98a323fe",
   "metadata": {
    "scrolled": false
   },
   "outputs": [
    {
     "name": "stdout",
     "output_type": "stream",
     "text": [
      "\n",
      "\tWelch Two Sample t-test\n",
      "\n",
      "data:  north$`Trunk Cost` and other$`Trunk Cost`\n",
      "t = -4.054, df = 7100.8, p-value = 5.088e-05\n",
      "alternative hypothesis: true difference in means is not equal to 0\n",
      "95 percent confidence interval:\n",
      " -125.40370  -43.65623\n",
      "sample estimates:\n",
      "mean of x mean of y \n",
      " 901.5434  986.0734 \n",
      "\n"
     ]
    }
   ],
   "source": [
    "%%R -i assessed\n",
    "\n",
    "north = df %>% filter(Area=='North Neighborhoods')\n",
    "other = df %>% filter(Area=='Other Neighborhoods')\n",
    "\n",
    "t.test(north$`Trunk Cost`, other$`Trunk Cost`)"
   ]
  },
  {
   "cell_type": "markdown",
   "id": "01730b12",
   "metadata": {},
   "source": [
    "### Conclusion:\n",
    "From the P-value, we can conclude that the difference between trunk cost for different neighborhoods is **statistically significant**."
   ]
  }
 ],
 "metadata": {
  "kernelspec": {
   "display_name": "Python 3 (ipykernel)",
   "language": "python",
   "name": "python3"
  },
  "language_info": {
   "codemirror_mode": {
    "name": "ipython",
    "version": 3
   },
   "file_extension": ".py",
   "mimetype": "text/x-python",
   "name": "python",
   "nbconvert_exporter": "python",
   "pygments_lexer": "ipython3",
   "version": "3.11.0"
  }
 },
 "nbformat": 4,
 "nbformat_minor": 5
}
